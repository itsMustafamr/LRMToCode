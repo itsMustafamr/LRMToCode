{
 "cells": [
  {
   "cell_type": "code",
   "execution_count": 1,
   "id": "7dc5e887",
   "metadata": {},
   "outputs": [
    {
     "name": "stdout",
     "output_type": "stream",
     "text": [
      "testing.ipynb\n"
     ]
    }
   ],
   "source": [
    "!ls"
   ]
  },
  {
   "cell_type": "code",
   "execution_count": 5,
   "id": "88ecadc9",
   "metadata": {},
   "outputs": [
    {
     "name": "stdout",
     "output_type": "stream",
     "text": [
      "<think>\n",
      "Okay, the user is asking about fun things to do in New York. That's a broad question! Let me start by figuring out what they really need. They might be a tourist planning their first trip, or maybe a local looking for new experiences. Either way, \"fun\" is subjective, so I should cover a variety of interests.\n",
      "\n",
      "First, I'll categorize activities to make it easier. Iconic spots are a must—Statue of Liberty, Times Square. But I should also include parks, museums, food, neighborhoods, and unique experiences. Some people love crowds; others prefer hidden gems. Balancing both is key.\n",
      "\n",
      "Wait, the user didn't specify their interests. Are they traveling with family? Friends? Solo? Since it's not clear, I'll include options for different groups. For example, Broadway shows for adults, Central Park for families, nightlife for friends. \n",
      "\n",
      "I should mention practical tips too. Like booking tickets in advance for popular attractions to save time. Also, walking is great, but the subway is efficient. Maybe note that some places are crowded, so timing matters. \n",
      "\n",
      "Food is a big part of NYC fun. Pizza, bagels, street food—highlighting those adds flavor to the suggestions. Also, different neighborhoods offer unique eats, like Chinatown or Little Italy. \n",
      "\n",
      "Free activities are important for budget travelers. Staten Island Ferry, High Line, people-watching. Not everyone wants to spend a lot. \n",
      "\n",
      "Special events could be a bonus. Seasonal things like holiday markets or parades. But since the user didn't mention timing, maybe just a brief note. \n",
      "\n",
      "I should avoid overly touristy traps unless they're worth it. Empire State Building is iconic, but suggest alternatives like Top of the Rock for better views. \n",
      "\n",
      "Check if all suggestions are current. For example, is the Vessel still accessible? Better mention alternatives like Little Island. Also, safety tips—maybe advise on subway use at night. \n",
      "\n",
      "Finally, end with a tip to explore neighborhoods. NYC's charm is in its diversity. Encourage wandering beyond the main sights. Make sure the tone is enthusiastic but practical, helping them prioritize based on their time and interests.\n",
      "</think>\n",
      "New York City is bursting with fun activities for every interest! Here's a curated list across different vibes:\n",
      "\n",
      "**Iconic Must-Dos (The Classics):**\n",
      "\n",
      "1.  **Feel the Buzz in Times Square:** Overwhelming, dazzling, and quintessential NYC. Best experienced at night. (Free to wander, but watch your wallet!).\n",
      "2.  **Stroll through Central Park:** Escape the concrete jungle. Rent a rowboat on the lake, visit the zoo, see Bethesda Terrace, people-watch, or just relax on the Great Lawn. (Mostly free, activities cost extra).\n",
      "3.  **See Lady Liberty:** Take the **Staten Island Ferry** for fantastic free views of the Statue of Liberty and the skyline. For a closer look, visit Liberty Island & Ellis Island (book tickets well ahead!).\n",
      "4.  **Experience Broadway:** See a world-class musical or play. Check TKTS booths for same-day discounts, or book in advance for hot shows. (Pricey but unforgettable).\n",
      "5.  **Ascend a Skyscraper:** Get breathtaking panoramic views:\n",
      "    *   **Top of the Rock (Rockefeller Center):** Iconic views *including* the Empire State Building. Great observation deck layout.\n",
      "    *   **Empire State Building:** The classic Art Deco icon. Views are amazing, but you won't see the ESB itself!\n",
      "    *   **One World Observatory (Freedom Tower):** Stunning modern experience with incredible views downtown.\n",
      "    *   **Summit One Vanderbilt:** Unique, immersive, multi-sensory experience with glass ledges and mirrored rooms (very popular).\n",
      "\n",
      "**Culture & Exploration:**\n",
      "\n",
      "6.  **Museum Hop:** NYC has some of the world's best:\n",
      "    *   **The Metropolitan Museum of Art (\"The Met\"):** Enormous collection spanning 5,000+ years. (Pay-what-you-wish for NY/NJ/CT residents).\n",
      "    *   **American Museum of Natural History:** Dinosaurs, dioramas, space shows. (Pay-what-you-wish policy).\n",
      "    *   **Museum of Modern Art (MoMA):** Stellar collection of modern and contemporary art (Van Gogh's *Starry Night*, Warhol, Picasso). (Free Friday nights 4-8 PM, check website).\n",
      "    *   **The Guggenheim:** As famous for its spiral architecture (Frank Lloyd Wright) as its art.\n",
      "    *   **Intrepid Sea, Air & Space Museum:** Aircraft carrier with planes, space shuttle, submarine. Great for families/aviation buffs.\n",
      "7.  **Walk the High Line:** An elevated park built on an old freight rail line. Beautiful gardens, art, unique city views, runs through Chelsea to Hudson Yards. (Free).\n",
      "8.  **Explore Diverse Neighborhoods:** Get lost and soak up the atmosphere:\n",
      "    *   **Greenwich Village:** Charming streets, historic sites, Washington Square Park.\n",
      "    *   **SoHo:** Cast-iron architecture, high-end shopping, art galleries.\n",
      "    *   **Chinatown & Little Italy:** Bustling markets, incredible food (dim sum, cannoli!), unique shops.\n",
      "    *   **Williamsburg (Brooklyn):** Hipster central, great street art, vintage shops, trendy bars/restaurants, fantastic skyline views from Domino Park or the waterfront.\n",
      "    *   **DUMBO (Brooklyn):** Picturesque cobblestone streets under the Manhattan Bridge, iconic photo spot (Washington St & Water St), Brooklyn Bridge Park.\n",
      "9.  **Walk the Brooklyn Bridge:** Stunning views of Manhattan, especially at sunset. Start on the Brooklyn side (DUMBO) for the best photo ops walking towards Manhattan. (Free).\n",
      "\n",
      "**Foodie Adventures:**\n",
      "\n",
      "10. **Eat Your Way Through the City:**\n",
      "    *   Grab a classic **NY slice** (Joe's Pizza, Bleecker Street Pizza, countless others).\n",
      "    *   Get a **bagel with lox & schmear** (Ess-a-Bagel, Russ & Daughters, Absolute Bagels).\n",
      "    *   Try diverse **street food** (halal carts, hot dogs, pretzels).\n",
      "    *   Explore **food halls** like Chelsea Market (great vibe!), Urbanspace Vanderbilt, or Time Out Market New York.\n",
      "    *   Indulge in **ethnic cuisine** – incredible options everywhere (Chinese in Flushing, Queens; Indian in Jackson Heights, Queens; etc.).\n",
      "    *   Treat yourself to a **fancy cocktail** at a rooftop bar or speakeasy.\n",
      "11. **Visit Smorgasburg (Seasonal - Spring/Fall):** Huge outdoor food market in Brooklyn (Williamsburg Saturdays, Prospect Park Sundays) with dozens of innovative vendors.\n",
      "\n",
      "**Unique & Quirky Fun:**\n",
      "\n",
      "12. **See a Live TV Show Taping:** Be part of the audience for shows like The Tonight Show Starring Jimmy Fallon, Saturday Night Live (lottery), The Daily Show, or Late Night with Seth Meyers (often free, book WAY in advance).\n",
      "13. **Catch a Game:** Experience the energy of Madison Square Garden (Knicks basketball, Rangers hockey) or Citi Field/Yankee Stadium (baseball).\n",
      "14. **Explore Chelsea Galleries:** Wander through hundreds of contemporary art galleries in Chelsea (many free, especially Thursday evenings).\n",
      "15. **Visit Coney Island (Brooklyn - Seasonal):** Old-school boardwalk vibe, Nathan's Famous hot dogs, the Cyclone roller coaster, Wonder Wheel, and the beach. (Free to enter, rides cost).\n",
      "16. **Go Thrift/Vintage Shopping:** Hunt for treasures in East Village, Williamsburg, or Hell's Kitchen shops.\n",
      "17. **See a Comedy Show:** NYC is the comedy capital. Catch big names at clubs like Comedy Cellar (reserve ahead!) or discover up-and-comers at smaller venues.\n",
      "18. **Ride the Roosevelt Island Tramway:** Get unique aerial views of the East River and Midtown for the price of a subway swipe. (Uses MetroCard).\n",
      "\n",
      "**Free & Chill:**\n",
      "\n",
      "19. **People-Watch:** Grab a coffee or bench and observe the incredible diversity of NYC life (Washington Square Park, Union Square, Bryant Park, Central Park).\n",
      "20. **Explore Grand Central Terminal:** Marvel at the beautiful Beaux-Arts architecture and celestial ceiling. (Free).\n",
      "21. **Visit the New York Public Library (Stephen A. Schwarzman Building):** Stunning reading rooms and Rose Main Reading Room. See the original Winnie-the-Pooh stuffed animals! (Free).\n",
      "22. **Walk along the Hudson River Greenway:** Beautiful waterfront paths for walking, biking, or skating with great views. (Free).\n",
      "\n",
      "**Tips for Maximum Fun:**\n",
      "\n",
      "*   **Walk & Use the Subway:** It's the fastest and most authentic way to get around. Get a MetroCard or use OMNY (contactless payment).\n",
      "*   **Book Ahead:** Crucial for popular attractions (Statue of Liberty/Ellis Island, Broadway shows, observatories, TV tapings, specific restaurants).\n",
      "*   **Wear Comfy Shoes:** You'll be doing a LOT of walking.\n",
      "*   **Explore Neighborhoods:** Don't just stick to Midtown. Each borough and neighborhood has its own unique flavor.\n",
      "*   **Check for Events:** Look up festivals, parades, markets, or free concerts happening during your visit (SummerStage, Shakespeare in the Park, holiday markets).\n",
      "*   **Be Flexible & Open:** Some of the best NYC moments are unplanned discoveries!\n",
      "\n",
      "**Choose your adventure based on your interests and time, and enjoy the incredible energy of New York City!**\n"
     ]
    }
   ],
   "source": [
    "import together\n",
    "\n",
    "api_key = \"c33f89c331d7d56412f8d9ae2a176567ddac8038911cd1baa2cc13f9e2c5bd3b\"\n",
    "client = together.Client(api_key=api_key)\n",
    "\n",
    "response = client.chat.completions.create(\n",
    "    model=\"deepseek-ai/DeepSeek-R1-0528\",\n",
    "    messages=[\n",
    "      {\n",
    "        \"role\": \"user\",\n",
    "        \"content\": \"What are some fun things to do in New York?\"\n",
    "      }\n",
    "    ]\n",
    ")\n",
    "print(response.choices[0].message.content)"
   ]
  },
  {
   "cell_type": "code",
   "execution_count": 6,
   "id": "59066569",
   "metadata": {},
   "outputs": [
    {
     "name": "stdout",
     "output_type": "stream",
     "text": [
      "Together API Key: e3a9804f7304d702ac5e03cdc865ad18e232af12cbdbdad94d833d3516a6fd87\n"
     ]
    }
   ],
   "source": [
    "import json\n",
    "\n",
    "with open(\"keys.json\", \"r\") as f:\n",
    "    keys = json.load(f)\n",
    "\n",
    "TOGETHER_API_KEY = keys[\"together\"]\n",
    "CLAUDE_API_KEY   = keys[\"claude\"]\n",
    "OPENAI_API_KEY   = keys[\"gpt\"]\n",
    "GEMINI_API_KEY   = keys[\"gemini\"]\n",
    "\n",
    "print(\"Together API Key:\", TOGETHER_API_KEY)  # test"
   ]
  },
  {
   "cell_type": "code",
   "execution_count": 6,
   "id": "8edcd13e",
   "metadata": {},
   "outputs": [
    {
     "name": "stdout",
     "output_type": "stream",
     "text": [
      "As the moonlight danced on the meadow, a gentle unicorn named Luna spread her shimmering wings and soared through the starlit sky, whispering dreams of magic to every sleeping child below.\n"
     ]
    }
   ],
   "source": [
    "import json\n",
    "from openai import OpenAI\n",
    "\n",
    "# Load the OpenAI API key from keys.json\n",
    "with open(\"keys.json\", \"r\") as f:\n",
    "    keys = json.load(f)\n",
    "OPENAI_API_KEY = keys[\"gpt\"]\n",
    "\n",
    "# Initialize the OpenAI client with the API key\n",
    "client = OpenAI(api_key=OPENAI_API_KEY)\n",
    "\n",
    "# Make a chat completion request\n",
    "response = client.chat.completions.create(\n",
    "    model=\"gpt-4o-mini\",  # or \"gpt-4\" if you have access\n",
    "    messages=[\n",
    "        {\"role\": \"user\", \"content\": \"Write a one-sentence bedtime story about a unicorn.\"}\n",
    "    ]\n",
    ")\n",
    "\n",
    "print(response.choices[0].message.content)"
   ]
  },
  {
   "cell_type": "code",
   "execution_count": 7,
   "id": "55da8c68",
   "metadata": {},
   "outputs": [
    {
     "name": "stdout",
     "output_type": "stream",
     "text": [
      "<think>\n",
      "Okay, user wants a one-sentence joke. Hmm, keeping it concise but punchy is key here. \n",
      "\n",
      "First, let's consider what makes a good micro-joke: needs setup and punchline compressed into one breath, with a clear twist. Puns or absurd imagery work well. \n",
      "\n",
      "User didn't specify topic, so I'll avoid anything potentially sensitive. Maybe something universally relatable? Like... tech struggles? Office life? \n",
      "\n",
      "*scrolling mental joke database* Ah! That old classic about Wi-Fi passwords. It's: \n",
      "- Short (just 8 words!) \n",
      "- Relatable (everyone's had password frustration) \n",
      "- Has surprise (\"strongest\" vs \"forgot\") \n",
      "- Self-contained in one sentence \n",
      "\n",
      "Bonus: the \"strongest password\" bit mirrors tech security advice, making the twist funnier. No cultural barriers either. \n",
      "\n",
      "*double-checks* Yep, meets all criteria. User seems to want quick humor - no need for follow-up unless they ask. Delivered!\n",
      "</think>\n",
      "Here's a one-sentence joke:  \n",
      "\n",
      "**\"I told my computer I needed a break, and now it won't stop sending me vacation ads.\"** 😄\n"
     ]
    }
   ],
   "source": [
    "import together\n",
    "\n",
    "api_key = \"c33f89c331d7d56412f8d9ae2a176567ddac8038911cd1baa2cc13f9e2c5bd3b\"\n",
    "client = together.Client(api_key=api_key)\n",
    "\n",
    "response = client.chat.completions.create(\n",
    "    model=\"deepseek-ai/DeepSeek-R1-0528\",\n",
    "    messages=[\n",
    "      {\n",
    "        \"role\": \"user\", \"content\": \"tell me a joke in 1 sentence\"\n",
    "      }\n",
    "    ]\n",
    ")\n",
    "print(response.choices[0].message.content)"
   ]
  },
  {
   "cell_type": "code",
   "execution_count": 10,
   "id": "38316708",
   "metadata": {},
   "outputs": [
    {
     "name": "stdout",
     "output_type": "stream",
     "text": [
      "<think>\n",
      "Okay, user wants a one-sentence joke. Hmm, keeping it short but punchy is key here. \n",
      "\n",
      "First, let's consider what makes a good micro-joke: needs setup and punchline compressed into one breath, with either wordplay or absurdity. User didn't specify style, so safest bet is universal humor - nothing niche or dark. \n",
      "\n",
      "*scrolling mental joke database* \n",
      "Option A: Tech humor? \"I told my computer I needed a break...\" nah, too long. \n",
      "Option B: Animal pun? \"Why don't eggs tell jokes?\" requires follow-up. \n",
      "Option C: Dad joke efficiency... ah! The \"I'm reading a book\" bit works because: \n",
      "- Instant setup (anti-gravity) \n",
      "- Visual punchline (can't put down) \n",
      "- Bonus: subtly flatters user by implying they're smart enough to get the pun \n",
      "\n",
      "*double-checking* Yep, single sentence, 12 words. Safe for work, no cultural landmines. User seems to want quick dopamine - this should deliver. \n",
      "\n",
      "*imagines user scrolling* They'll either smirk or groan. Mission accomplished either way.\n",
      "</think>\n",
      "Here's a one-sentence joke:  \n",
      "\n",
      "**\"I'm reading a book on anti-gravity—it’s impossible to put down.\"** 😄\n"
     ]
    }
   ],
   "source": [
    "import together\n",
    "import json\n",
    "\n",
    "with open(\"keys.json\", \"r\") as f:\n",
    "    keys = json.load(f)\n",
    "TOGETHER_API_KEY = keys[\"together\"]\n",
    "\n",
    "client = together.Client(api_key=TOGETHER_API_KEY)\n",
    "\n",
    "response = client.chat.completions.create(\n",
    "    model=\"deepseek-ai/DeepSeek-R1\",\n",
    "    messages=[\n",
    "      {\n",
    "        \"role\": \"user\", \"content\": \"tell me a joke in 1 sentence\"\n",
    "      }\n",
    "    ]\n",
    ")\n",
    "print(response.choices[0].message.content)"
   ]
  },
  {
   "cell_type": "code",
   "execution_count": null,
   "id": "6c2e32d1",
   "metadata": {},
   "outputs": [],
   "source": []
  }
 ],
 "metadata": {
  "kernelspec": {
   "display_name": "llm",
   "language": "python",
   "name": "python3"
  },
  "language_info": {
   "codemirror_mode": {
    "name": "ipython",
    "version": 3
   },
   "file_extension": ".py",
   "mimetype": "text/x-python",
   "name": "python",
   "nbconvert_exporter": "python",
   "pygments_lexer": "ipython3",
   "version": "3.10.18"
  }
 },
 "nbformat": 4,
 "nbformat_minor": 5
}
